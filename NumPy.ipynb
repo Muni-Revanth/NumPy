{
  "cells": [
    {
      "cell_type": "markdown",
      "source": [
        "\n",
        "![768px-NumPy_logo_2020.svg.png](data:image/png;base64,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)"
      ],
      "metadata": {
        "id": "cFh-XlzGNUpu"
      }
    },
    {
      "cell_type": "markdown",
      "metadata": {
        "id": "Dty-dlEcNbzz"
      },
      "source": [
        "# **STATISTICS WITH NUMPY**\n",
        "\n",
        "---"
      ]
    },
    {
      "cell_type": "markdown",
      "metadata": {
        "id": "9irL6X7rQcZY"
      },
      "source": [
        "### **Agenda**\n",
        "*   Introduction\n",
        "*   Data types\n",
        "*   Array attributes\n",
        "*   Indexing and Slicing\n",
        "*   Iterating over an array\n",
        "*   Statistical functions\n",
        "*   Mulidimensional array\n",
        "*   Broadcasting of an array\n"
      ]
    },
    {
      "cell_type": "markdown",
      "metadata": {
        "id": "2pux1XOrRJNf"
      },
      "source": [
        " ## **Introduction**\n",
        "\n",
        "\n",
        "---\n",
        "\n"
      ]
    },
    {
      "cell_type": "markdown",
      "metadata": {
        "id": "DnXtTLwMRsIu"
      },
      "source": [
        "NumPy is a popular open-source Python library for numerical computing. It stands for \"Numerical Python.\" NumPy provides support for large, multi-dimensional arrays and matrices, along with a vast collection of high-level mathematical functions to operate on these arrays efficiently."
      ]
    },
    {
      "cell_type": "markdown",
      "metadata": {
        "id": "4QtTLElwTIzB"
      },
      "source": [
        "### **How to install NumPy?**"
      ]
    },
    {
      "cell_type": "code",
      "execution_count": 1,
      "metadata": {
        "colab": {
          "base_uri": "https://localhost:8080/"
        },
        "id": "iuPEBnzzUqOT",
        "outputId": "18231a95-5ac0-411d-91e6-d1484393d569",
        "scrolled": false
      },
      "outputs": [
        {
          "output_type": "stream",
          "name": "stdout",
          "text": [
            "Requirement already satisfied: numpy in /usr/local/lib/python3.10/dist-packages (1.22.4)\n"
          ]
        }
      ],
      "source": [
        "pip install numpy"
      ]
    },
    {
      "cell_type": "markdown",
      "metadata": {
        "id": "x4xnE7vFT9CU"
      },
      "source": [
        "### **How to import NumPy?**"
      ]
    },
    {
      "cell_type": "code",
      "execution_count": 2,
      "metadata": {
        "id": "u0tq62wIUSCj"
      },
      "outputs": [],
      "source": [
        "import numpy as np"
      ]
    },
    {
      "cell_type": "markdown",
      "source": [
        "### **How to create an array using NumPy?**"
      ],
      "metadata": {
        "id": "jQHcZtX3m1Wt"
      }
    },
    {
      "cell_type": "code",
      "source": [
        "array_2d = np.array([[7, 10, 18, 45],[99, 1, 17, 19]])"
      ],
      "metadata": {
        "id": "rWpqCgs9nKZW"
      },
      "execution_count": 3,
      "outputs": []
    },
    {
      "cell_type": "markdown",
      "metadata": {
        "id": "BUEpY4W7VBbf"
      },
      "source": [
        "## **Data types**\n",
        "\n",
        "\n",
        "---\n",
        "\n"
      ]
    },
    {
      "cell_type": "markdown",
      "metadata": {
        "id": "dSEiPzCgaj6f"
      },
      "source": [
        "List of Data types,\n",
        "\n",
        "\n",
        "1.   **Integer** denoted as **int** - whole number is known as integer.\n",
        "2.   **Floating-point type** denoted as **float** - decimal number is known as floating point.\n",
        "3.   **Complex types** denoted as **complex** - numbers with both a real part and an imaginary part.\n",
        "4.   **Boolean type** denoted as **bool** - represents True of False values.\n",
        "5.   **String type** denoted as **str** - text.\n",
        "6.   **Object type** denoted as **object** - array like structure."
      ]
    },
    {
      "cell_type": "markdown",
      "source": [
        "### **How to find the datatype of an array?**"
      ],
      "metadata": {
        "id": "RnFk7szSlpEB"
      }
    },
    {
      "cell_type": "code",
      "source": [
        "array_2d.dtype"
      ],
      "metadata": {
        "colab": {
          "base_uri": "https://localhost:8080/"
        },
        "id": "vZZ8UK0SoWMg",
        "outputId": "d3fea927-1a66-45a8-c276-afb47300ea91"
      },
      "execution_count": 4,
      "outputs": [
        {
          "output_type": "execute_result",
          "data": {
            "text/plain": [
              "dtype('int64')"
            ]
          },
          "metadata": {},
          "execution_count": 4
        }
      ]
    },
    {
      "cell_type": "markdown",
      "source": [
        "## **Array Attributes**\n",
        "\n",
        "\n",
        "---\n",
        "\n"
      ],
      "metadata": {
        "id": "FL_DP7LciL8c"
      }
    },
    {
      "cell_type": "markdown",
      "source": [
        "In NumPy, arrays come with several attributes that provide valuable information about the array's properties and characteristics. These attributes can be accessed using dot notation after creating the array. Here are some of the most commonly used array attributes in NumPy:\n",
        "\n",
        "\n",
        "\n",
        "1. **shape** : dimensions of the array(rows,columns)\n",
        "```\n",
        "array.shape\n",
        "```\n",
        "3.   **size** : total number of elements in the array.\n",
        "```\n",
        "array.size\n",
        "```\n",
        "4.   **ndim** : number of dimensions of the array.\n",
        "```\n",
        "array.ndim\n",
        "```\n",
        "5.   **itemsize** : size in bytes of each element in the array.\n",
        "```\n",
        "array.itemsize\n",
        "```\n",
        "6.   **nbytes** : total size in bytes of the array.\n",
        "```\n",
        "array.nbytes\n",
        "```\n",
        "7.   **real** : the real part of the complex array.\n",
        "```\n",
        "array.real\n",
        "```\n",
        "8.   **imag** : the imaginary part of the complex array.\n",
        "```\n",
        "array.imag\n",
        "```\n",
        "\n",
        "\n"
      ],
      "metadata": {
        "id": "5hn_lkkniX8b"
      }
    },
    {
      "cell_type": "code",
      "execution_count": 5,
      "metadata": {
        "colab": {
          "base_uri": "https://localhost:8080/"
        },
        "id": "urLGdj0qaj6f",
        "outputId": "478bab01-463b-4902-9a2b-ee75265b88c4"
      },
      "outputs": [
        {
          "output_type": "execute_result",
          "data": {
            "text/plain": [
              "(2, 4)"
            ]
          },
          "metadata": {},
          "execution_count": 5
        }
      ],
      "source": [
        "# To find the shape of the array.\n",
        "\n",
        "array_2d.shape"
      ]
    },
    {
      "cell_type": "code",
      "execution_count": 6,
      "metadata": {
        "colab": {
          "base_uri": "https://localhost:8080/"
        },
        "id": "QIvVrkMLaj6f",
        "outputId": "913f1703-59c6-475f-b253-322053015adb"
      },
      "outputs": [
        {
          "output_type": "execute_result",
          "data": {
            "text/plain": [
              "8"
            ]
          },
          "metadata": {},
          "execution_count": 6
        }
      ],
      "source": [
        "# To find the size of the array.\n",
        "\n",
        "array_2d.size"
      ]
    },
    {
      "cell_type": "code",
      "source": [
        "# To find the dimensions of the array.\n",
        "\n",
        "array_2d.ndim"
      ],
      "metadata": {
        "colab": {
          "base_uri": "https://localhost:8080/"
        },
        "id": "ipymVAW3qR1I",
        "outputId": "e2a1aa19-652b-4ee4-99c3-475eba66609c"
      },
      "execution_count": 7,
      "outputs": [
        {
          "output_type": "execute_result",
          "data": {
            "text/plain": [
              "2"
            ]
          },
          "metadata": {},
          "execution_count": 7
        }
      ]
    },
    {
      "cell_type": "code",
      "source": [
        "# To find the item size of the array.\n",
        "\n",
        "array_2d.itemsize"
      ],
      "metadata": {
        "colab": {
          "base_uri": "https://localhost:8080/"
        },
        "id": "PZb6-g4-qWAs",
        "outputId": "c12d13bd-d8bc-4163-d7c9-19d5dcb3bd77"
      },
      "execution_count": 8,
      "outputs": [
        {
          "output_type": "execute_result",
          "data": {
            "text/plain": [
              "8"
            ]
          },
          "metadata": {},
          "execution_count": 8
        }
      ]
    },
    {
      "cell_type": "code",
      "source": [
        "# To find the total size of the array in bytes.\n",
        "\n",
        "array_2d.nbytes"
      ],
      "metadata": {
        "colab": {
          "base_uri": "https://localhost:8080/"
        },
        "id": "CVdpItVRqZvf",
        "outputId": "76e3baa4-61cb-41d5-e183-88ccd4767b61"
      },
      "execution_count": 9,
      "outputs": [
        {
          "output_type": "execute_result",
          "data": {
            "text/plain": [
              "64"
            ]
          },
          "metadata": {},
          "execution_count": 9
        }
      ]
    },
    {
      "cell_type": "code",
      "source": [
        "# To find the real numbers present in the array.\n",
        "\n",
        "array_2d.real"
      ],
      "metadata": {
        "colab": {
          "base_uri": "https://localhost:8080/"
        },
        "id": "Pv5sRj-CqdeJ",
        "outputId": "3e3c5c6c-12a6-44a1-c85b-7e01f116dbd1"
      },
      "execution_count": 10,
      "outputs": [
        {
          "output_type": "execute_result",
          "data": {
            "text/plain": [
              "array([[ 7, 10, 18, 45],\n",
              "       [99,  1, 17, 19]])"
            ]
          },
          "metadata": {},
          "execution_count": 10
        }
      ]
    },
    {
      "cell_type": "code",
      "source": [
        "# To find the imagainary numbers present in the array.\n",
        "\n",
        "array_2d.imag"
      ],
      "metadata": {
        "colab": {
          "base_uri": "https://localhost:8080/"
        },
        "id": "H1k6tmyZqgbU",
        "outputId": "7a92ab26-2895-416d-a800-4373a17ee7de"
      },
      "execution_count": 11,
      "outputs": [
        {
          "output_type": "execute_result",
          "data": {
            "text/plain": [
              "array([[0, 0, 0, 0],\n",
              "       [0, 0, 0, 0]])"
            ]
          },
          "metadata": {},
          "execution_count": 11
        }
      ]
    },
    {
      "cell_type": "markdown",
      "source": [
        "## **Indexing and Slicing of an array**\n",
        "---\n",
        "\n"
      ],
      "metadata": {
        "id": "O5tXIEkiPtz9"
      }
    },
    {
      "cell_type": "markdown",
      "source": [
        "### **Indexing :** Indexing allows you to access individual elements in the array by their position. Python arrays indexing are zero-based.Negative Indexing is used to access the array from last.\n"
      ],
      "metadata": {
        "id": "ZVWMI401QVaT"
      }
    },
    {
      "cell_type": "code",
      "source": [
        "array_1d = np.array([1, 4, 9, 16, 25, 36, 49, 64, 81, 100])"
      ],
      "metadata": {
        "id": "MBSjeGuqQVA4"
      },
      "execution_count": 12,
      "outputs": []
    },
    {
      "cell_type": "code",
      "source": [
        "print(\"The first element of the array is\", array_1d[0])"
      ],
      "metadata": {
        "colab": {
          "base_uri": "https://localhost:8080/"
        },
        "id": "Fw7B5QVxR44R",
        "outputId": "b30dd2e0-07af-4b1f-e818-222495bcc093"
      },
      "execution_count": 13,
      "outputs": [
        {
          "output_type": "stream",
          "name": "stdout",
          "text": [
            "The first element of the array is 1\n"
          ]
        }
      ]
    },
    {
      "cell_type": "code",
      "source": [
        "print(\"The last element of the array is\", array_1d[-1])"
      ],
      "metadata": {
        "colab": {
          "base_uri": "https://localhost:8080/"
        },
        "id": "PqoMWrj0STga",
        "outputId": "c90dbf2b-fd51-4829-b478-d03239a2767a"
      },
      "execution_count": 14,
      "outputs": [
        {
          "output_type": "stream",
          "name": "stdout",
          "text": [
            "The last element of the array is 100\n"
          ]
        }
      ]
    },
    {
      "cell_type": "markdown",
      "source": [
        "### **Slicing :** Slicing, allows you to extract a portion of the array, creating a new array that contains only the specified elements.\n"
      ],
      "metadata": {
        "id": "nZDV3q8PRB2O"
      }
    },
    {
      "cell_type": "markdown",
      "source": [
        "**start_index :** The index from which the slice starts (inclusive).\n",
        "\n",
        "**stop_index :** The index where the slice ends (exclusive).\n",
        "\n",
        "**step :** The step size between elements (optional)."
      ],
      "metadata": {
        "id": "Sk3Hfm5fY6-t"
      }
    },
    {
      "cell_type": "markdown",
      "source": [
        "#### Slicing a 1-D array.\n",
        "---\n",
        "\n"
      ],
      "metadata": {
        "id": "SMnb4HzVX7UV"
      }
    },
    {
      "cell_type": "code",
      "source": [
        "# array.\n",
        "\n",
        "array_1d"
      ],
      "metadata": {
        "id": "3CgoOE5kUGpf",
        "colab": {
          "base_uri": "https://localhost:8080/"
        },
        "outputId": "9d90c920-0eda-4536-8f56-cb1158fc62bd"
      },
      "execution_count": 15,
      "outputs": [
        {
          "output_type": "execute_result",
          "data": {
            "text/plain": [
              "array([  1,   4,   9,  16,  25,  36,  49,  64,  81, 100])"
            ]
          },
          "metadata": {},
          "execution_count": 15
        }
      ]
    },
    {
      "cell_type": "code",
      "source": [
        "# This code slices the array from the 1st to 4th indexes.\n",
        "\n",
        "array_1d[1:5]"
      ],
      "metadata": {
        "colab": {
          "base_uri": "https://localhost:8080/"
        },
        "id": "N9lG8b6zUegQ",
        "outputId": "445ae1a1-dd25-4868-ff87-797a0bef8990"
      },
      "execution_count": 16,
      "outputs": [
        {
          "output_type": "execute_result",
          "data": {
            "text/plain": [
              "array([ 4,  9, 16, 25])"
            ]
          },
          "metadata": {},
          "execution_count": 16
        }
      ]
    },
    {
      "cell_type": "code",
      "source": [
        "# This code slices the array from the 0th to 3rd indexes.\n",
        "\n",
        "array_1d[:4]"
      ],
      "metadata": {
        "colab": {
          "base_uri": "https://localhost:8080/"
        },
        "id": "LJWM1KQwU3R2",
        "outputId": "dd0beaef-381d-4c86-e3c3-a9a36d98ac0d"
      },
      "execution_count": 17,
      "outputs": [
        {
          "output_type": "execute_result",
          "data": {
            "text/plain": [
              "array([ 1,  4,  9, 16])"
            ]
          },
          "metadata": {},
          "execution_count": 17
        }
      ]
    },
    {
      "cell_type": "code",
      "source": [
        "# This code slices the array from the 3rd index to the last index.\n",
        "\n",
        "array_1d[3:]"
      ],
      "metadata": {
        "colab": {
          "base_uri": "https://localhost:8080/"
        },
        "id": "iPhVJzM9VPXG",
        "outputId": "02b080cb-c5f5-4df5-8fbe-ed20e224bf3d"
      },
      "execution_count": 18,
      "outputs": [
        {
          "output_type": "execute_result",
          "data": {
            "text/plain": [
              "array([ 16,  25,  36,  49,  64,  81, 100])"
            ]
          },
          "metadata": {},
          "execution_count": 18
        }
      ]
    },
    {
      "cell_type": "code",
      "source": [
        "# This code slices every alternate elements of the array.\n",
        "\n",
        "array_1d[::2]"
      ],
      "metadata": {
        "colab": {
          "base_uri": "https://localhost:8080/"
        },
        "id": "85i44uGgVc_6",
        "outputId": "9f242225-7cea-4b25-ab61-3d8b6e6cdc7d"
      },
      "execution_count": 19,
      "outputs": [
        {
          "output_type": "execute_result",
          "data": {
            "text/plain": [
              "array([ 1,  9, 25, 49, 81])"
            ]
          },
          "metadata": {},
          "execution_count": 19
        }
      ]
    },
    {
      "cell_type": "code",
      "source": [
        "# This code reverses the array.\n",
        "\n",
        "array_1d[::-1]"
      ],
      "metadata": {
        "colab": {
          "base_uri": "https://localhost:8080/"
        },
        "id": "H5wEWtkhVsVe",
        "outputId": "c08e3591-738d-4dcb-ee29-f0696c9f1e84"
      },
      "execution_count": 20,
      "outputs": [
        {
          "output_type": "execute_result",
          "data": {
            "text/plain": [
              "array([100,  81,  64,  49,  36,  25,  16,   9,   4,   1])"
            ]
          },
          "metadata": {},
          "execution_count": 20
        }
      ]
    },
    {
      "cell_type": "markdown",
      "source": [
        "#### Slicing a 2-D array.\n",
        "---\n",
        "\n"
      ],
      "metadata": {
        "id": "UY6Nct92YCDc"
      }
    },
    {
      "cell_type": "markdown",
      "source": [
        "The first part slices the rows.\n",
        "\n",
        "The second part slices the columns."
      ],
      "metadata": {
        "id": "2T7pilVwYd8p"
      }
    },
    {
      "cell_type": "code",
      "source": [
        "# 2-D array.\n",
        "\n",
        "array_2d"
      ],
      "metadata": {
        "colab": {
          "base_uri": "https://localhost:8080/"
        },
        "id": "uH78OdUWXUmS",
        "outputId": "ed9ec3ef-b029-474d-f301-8dd70bb446bf"
      },
      "execution_count": 21,
      "outputs": [
        {
          "output_type": "execute_result",
          "data": {
            "text/plain": [
              "array([[ 7, 10, 18, 45],\n",
              "       [99,  1, 17, 19]])"
            ]
          },
          "metadata": {},
          "execution_count": 21
        }
      ]
    },
    {
      "cell_type": "code",
      "source": [
        "# Slicing a 2-D array.\n",
        "\n",
        "array_2d[0:1, 2:]"
      ],
      "metadata": {
        "colab": {
          "base_uri": "https://localhost:8080/"
        },
        "id": "CSTUU3TnWmRD",
        "outputId": "9e7e7c82-4ac9-4b1d-992e-232f1f01bd76"
      },
      "execution_count": 22,
      "outputs": [
        {
          "output_type": "execute_result",
          "data": {
            "text/plain": [
              "array([[18, 45]])"
            ]
          },
          "metadata": {},
          "execution_count": 22
        }
      ]
    },
    {
      "cell_type": "markdown",
      "source": [
        "## **Iterating over an array.**\n",
        "---\n",
        "\n"
      ],
      "metadata": {
        "id": "INAHKi_LaEnP"
      }
    },
    {
      "cell_type": "markdown",
      "source": [
        "In NumPy, we can iterate over an array element-by-element using a variety of methods, including traditional loops and built-in NumPy functions."
      ],
      "metadata": {
        "id": "hY7CWs4adusq"
      }
    },
    {
      "cell_type": "markdown",
      "source": [
        "### Iterating over a 1-D array using for loop."
      ],
      "metadata": {
        "id": "4CmnR4rqa53D"
      }
    },
    {
      "cell_type": "code",
      "source": [
        "# array.\n",
        "\n",
        "array_1d"
      ],
      "metadata": {
        "colab": {
          "base_uri": "https://localhost:8080/"
        },
        "id": "4pACFaXUbHL4",
        "outputId": "540d3717-5fbe-4436-f025-965f01f49222"
      },
      "execution_count": 23,
      "outputs": [
        {
          "output_type": "execute_result",
          "data": {
            "text/plain": [
              "array([  1,   4,   9,  16,  25,  36,  49,  64,  81, 100])"
            ]
          },
          "metadata": {},
          "execution_count": 23
        }
      ]
    },
    {
      "cell_type": "code",
      "source": [
        "# using traditional for-loop.\n",
        "\n",
        "for i in array_1d:\n",
        "  print(i)"
      ],
      "metadata": {
        "colab": {
          "base_uri": "https://localhost:8080/"
        },
        "id": "9SJ1eHQOZ9gT",
        "outputId": "9bfd3d95-5a5a-4de0-d145-9e5ec3172034"
      },
      "execution_count": 24,
      "outputs": [
        {
          "output_type": "stream",
          "name": "stdout",
          "text": [
            "1\n",
            "4\n",
            "9\n",
            "16\n",
            "25\n",
            "36\n",
            "49\n",
            "64\n",
            "81\n",
            "100\n"
          ]
        }
      ]
    },
    {
      "cell_type": "markdown",
      "source": [
        "### Iterating over a 2-D array using for loop."
      ],
      "metadata": {
        "id": "2I9RS0PxbPJw"
      }
    },
    {
      "cell_type": "code",
      "source": [
        "# 2-D array.\n",
        "\n",
        "array_2d"
      ],
      "metadata": {
        "colab": {
          "base_uri": "https://localhost:8080/"
        },
        "id": "U5h1Pr-5bVzr",
        "outputId": "76bdb87f-a1d4-4251-d401-dbc1b8043759"
      },
      "execution_count": 25,
      "outputs": [
        {
          "output_type": "execute_result",
          "data": {
            "text/plain": [
              "array([[ 7, 10, 18, 45],\n",
              "       [99,  1, 17, 19]])"
            ]
          },
          "metadata": {},
          "execution_count": 25
        }
      ]
    },
    {
      "cell_type": "code",
      "source": [
        "# To print the elements of an 2-D array using nditer function.\n",
        "\n",
        "for j in np.nditer(array_2d):\n",
        "  print(j)"
      ],
      "metadata": {
        "colab": {
          "base_uri": "https://localhost:8080/"
        },
        "id": "ALYwrvMfbZ83",
        "outputId": "26683850-6e34-41b4-f8d3-318a462c4cc1"
      },
      "execution_count": 26,
      "outputs": [
        {
          "output_type": "stream",
          "name": "stdout",
          "text": [
            "7\n",
            "10\n",
            "18\n",
            "45\n",
            "99\n",
            "1\n",
            "17\n",
            "19\n"
          ]
        }
      ]
    },
    {
      "cell_type": "code",
      "source": [
        "# To print both the indexes and values of an 2-D array using ndenumerate function.\n",
        "\n",
        "for index, value in np.ndenumerate(array_2d):\n",
        "  print(index,\":\",value)"
      ],
      "metadata": {
        "colab": {
          "base_uri": "https://localhost:8080/"
        },
        "id": "snCFD6adbqOr",
        "outputId": "dff6d272-65b1-4a72-80fa-9dd35c6f5f97"
      },
      "execution_count": 27,
      "outputs": [
        {
          "output_type": "stream",
          "name": "stdout",
          "text": [
            "(0, 0) : 7\n",
            "(0, 1) : 10\n",
            "(0, 2) : 18\n",
            "(0, 3) : 45\n",
            "(1, 0) : 99\n",
            "(1, 1) : 1\n",
            "(1, 2) : 17\n",
            "(1, 3) : 19\n"
          ]
        }
      ]
    },
    {
      "cell_type": "markdown",
      "source": [
        "## **Statistical Functions.**\n",
        "---\n",
        "\n"
      ],
      "metadata": {
        "id": "5heS3uMGeAmN"
      }
    },
    {
      "cell_type": "markdown",
      "source": [
        "NumPy provides a wide range of statistical functions that allow you to perform various statistical computations on arrays. Some of the most commonly used statistical functions in NumPy,\n",
        "\n",
        "1.   Mean\n",
        "```\n",
        "np.mean(array)\n",
        "```\n",
        "2.   Median\n",
        "```\n",
        "np.median(array)\n",
        "```\n",
        "4.   Standard Deviation\n",
        "```\n",
        "np.std(array)\n",
        "```\n",
        "5.   Variance\n",
        "```\n",
        "np.var(array)\n",
        "```\n",
        "6.   Maximum & Minimum\n",
        "```\n",
        "np.max(array)\n",
        "np.min(array)\n",
        "```\n",
        "7.   Percentile\n",
        "```\n",
        "np.percentile(array, percentile)\n",
        "```\n",
        "8.   Correlation\n",
        "```\n",
        "np.corrcoef(array)\n",
        "```\n"
      ],
      "metadata": {
        "id": "Mbb2iH5WotEL"
      }
    },
    {
      "cell_type": "code",
      "source": [
        "# array.\n",
        "\n",
        "array_1d"
      ],
      "metadata": {
        "colab": {
          "base_uri": "https://localhost:8080/"
        },
        "id": "fny-HPiYyhhZ",
        "outputId": "ba35c724-0516-4a2c-87ab-701d1824b679"
      },
      "execution_count": 28,
      "outputs": [
        {
          "output_type": "execute_result",
          "data": {
            "text/plain": [
              "array([  1,   4,   9,  16,  25,  36,  49,  64,  81, 100])"
            ]
          },
          "metadata": {},
          "execution_count": 28
        }
      ]
    },
    {
      "cell_type": "code",
      "source": [
        "# To find the mean of an array.\n",
        "\n",
        "print(\"The mean of the given array is\",np.mean(array_1d))"
      ],
      "metadata": {
        "colab": {
          "base_uri": "https://localhost:8080/"
        },
        "id": "Y1V89N6YoJF7",
        "outputId": "b28d2d45-43a2-4fb0-9828-193c99622177"
      },
      "execution_count": 29,
      "outputs": [
        {
          "output_type": "stream",
          "name": "stdout",
          "text": [
            "The mean of the given array is 38.5\n"
          ]
        }
      ]
    },
    {
      "cell_type": "code",
      "source": [
        "# To find the median of an array.\n",
        "\n",
        "print(\"The median of the given array is\",np.median(array_1d))"
      ],
      "metadata": {
        "colab": {
          "base_uri": "https://localhost:8080/"
        },
        "id": "-ZVi5BGGr56n",
        "outputId": "1046c002-493d-4349-a05f-a21c43c65615"
      },
      "execution_count": 30,
      "outputs": [
        {
          "output_type": "stream",
          "name": "stdout",
          "text": [
            "The median of the given array is 30.5\n"
          ]
        }
      ]
    },
    {
      "cell_type": "code",
      "source": [
        "# To find the standard deviation of an array.\n",
        "\n",
        "print(\"The standard deviation of the given array is\",np.std(array_1d))"
      ],
      "metadata": {
        "colab": {
          "base_uri": "https://localhost:8080/"
        },
        "id": "mohYwMoPsbrk",
        "outputId": "15efd856-4b9b-4e1b-c4bf-b6571b2eef04"
      },
      "execution_count": 31,
      "outputs": [
        {
          "output_type": "stream",
          "name": "stdout",
          "text": [
            "The standard deviation of the given array is 32.41990129534635\n"
          ]
        }
      ]
    },
    {
      "cell_type": "code",
      "source": [
        "# To find the variance of an array.\n",
        "\n",
        "print(\"The variance of the given array is\",np.var(array_1d))"
      ],
      "metadata": {
        "colab": {
          "base_uri": "https://localhost:8080/"
        },
        "id": "7641lJRSsswv",
        "outputId": "d60252ff-fd2f-4144-8982-8401a079ed15"
      },
      "execution_count": 32,
      "outputs": [
        {
          "output_type": "stream",
          "name": "stdout",
          "text": [
            "The variance of the given array is 1051.05\n"
          ]
        }
      ]
    },
    {
      "cell_type": "code",
      "source": [
        "# To find the minimum value in an array.\n",
        "\n",
        "print(\"The minimmum value present in the given array is\",np.min(array_1d))"
      ],
      "metadata": {
        "colab": {
          "base_uri": "https://localhost:8080/"
        },
        "id": "wvtL2mIisyST",
        "outputId": "458c9580-dbc7-49db-e0dd-779d9d02d579"
      },
      "execution_count": 33,
      "outputs": [
        {
          "output_type": "stream",
          "name": "stdout",
          "text": [
            "The minimmum value present in the given array is 1\n"
          ]
        }
      ]
    },
    {
      "cell_type": "code",
      "source": [
        "# To find the maximum value in an array.\n",
        "\n",
        "print(\"The maximum value present in the given array is\",np.max(array_1d))"
      ],
      "metadata": {
        "colab": {
          "base_uri": "https://localhost:8080/"
        },
        "id": "edRQh9eOtFEf",
        "outputId": "a817c789-79da-4ee7-c984-cf740c14d6dc"
      },
      "execution_count": 34,
      "outputs": [
        {
          "output_type": "stream",
          "name": "stdout",
          "text": [
            "The maximum value present in the given array is 100\n"
          ]
        }
      ]
    },
    {
      "cell_type": "code",
      "source": [
        "# To find the nth percentile of an array.\n",
        "\n",
        "n = 25\n",
        "print(\"The\",n,\"th percentile of the given array is\", np.percentile(array_1d,n))"
      ],
      "metadata": {
        "colab": {
          "base_uri": "https://localhost:8080/"
        },
        "id": "eapDEtyltIo3",
        "outputId": "d9aa67c2-34b8-4943-9359-d4634421f631"
      },
      "execution_count": 35,
      "outputs": [
        {
          "output_type": "stream",
          "name": "stdout",
          "text": [
            "The 25 th percentile of the given array is 10.75\n"
          ]
        }
      ]
    },
    {
      "cell_type": "code",
      "source": [
        "array_1 = np.array([10,20,30,40,50,60,70,80,90,100])"
      ],
      "metadata": {
        "id": "r1z_hvuwIYSN"
      },
      "execution_count": 36,
      "outputs": []
    },
    {
      "cell_type": "code",
      "source": [
        "# To find the correlation coefficient of an array.\n",
        "\n",
        "print(\"The correlation between the given array is \\n\",np.corrcoef(array_1d, array_1))"
      ],
      "metadata": {
        "colab": {
          "base_uri": "https://localhost:8080/"
        },
        "id": "jLo6hB8atg1s",
        "outputId": "3fe68ef5-e8c5-405a-c89d-9bfb96f4fd6d"
      },
      "execution_count": 37,
      "outputs": [
        {
          "output_type": "stream",
          "name": "stdout",
          "text": [
            "The correlation between the given array is \n",
            " [[1.         0.97455863]\n",
            " [0.97455863 1.        ]]\n"
          ]
        }
      ]
    },
    {
      "cell_type": "markdown",
      "source": [
        "## **Multi-Dimensional Array**"
      ],
      "metadata": {
        "id": "kOMQM8T5JJ_t"
      }
    },
    {
      "cell_type": "code",
      "source": [
        "# Creating an 2-D array.\n",
        "\n",
        "array_2d = np.array([[1,2,3],[4,5,6],[7,8,9]])"
      ],
      "metadata": {
        "id": "lnKwKQMJJQwe"
      },
      "execution_count": 38,
      "outputs": []
    },
    {
      "cell_type": "code",
      "source": [
        "# Indexing.\n",
        "\n",
        "array_2d[2,2]"
      ],
      "metadata": {
        "colab": {
          "base_uri": "https://localhost:8080/"
        },
        "id": "M5AJxmstKHiq",
        "outputId": "cb146b22-a892-49b9-ab3c-5697ea1c7ec4"
      },
      "execution_count": 39,
      "outputs": [
        {
          "output_type": "execute_result",
          "data": {
            "text/plain": [
              "9"
            ]
          },
          "metadata": {},
          "execution_count": 39
        }
      ]
    },
    {
      "cell_type": "code",
      "source": [
        "# Slicing.\n",
        "\n",
        "array_2d[:3, :1]"
      ],
      "metadata": {
        "colab": {
          "base_uri": "https://localhost:8080/"
        },
        "id": "wiVKBlCAK8oe",
        "outputId": "cf98fcc2-1d37-43ae-d32b-588551f87bdd"
      },
      "execution_count": 40,
      "outputs": [
        {
          "output_type": "execute_result",
          "data": {
            "text/plain": [
              "array([[1],\n",
              "       [4],\n",
              "       [7]])"
            ]
          },
          "metadata": {},
          "execution_count": 40
        }
      ]
    },
    {
      "cell_type": "markdown",
      "source": [
        "## **Broadcasting of an array**"
      ],
      "metadata": {
        "id": "vlVgrtWx6ssB"
      }
    },
    {
      "cell_type": "markdown",
      "source": [
        "NumPy's broadcasting provides a potent and practical tool for executing actions on arrays with different shapes and dimensions.\n",
        "\n",
        "If the arrays have different shapes, NumPy compares their dimensions starting from the last axis (trailing dimensions) and works backward. The dimensions are considered compatible if they are equal or if one of them is 1."
      ],
      "metadata": {
        "id": "Jy9NpfME7_er"
      }
    },
    {
      "cell_type": "code",
      "source": [
        "# creating an array.\n",
        "\n",
        "array_2 = np.array([6,7,8,9])"
      ],
      "metadata": {
        "id": "s7RDDRZH6222"
      },
      "execution_count": 41,
      "outputs": []
    },
    {
      "cell_type": "code",
      "source": [
        "# Broadcasting an array with scalar.\n",
        "\n",
        "print(array_2 + 10)"
      ],
      "metadata": {
        "colab": {
          "base_uri": "https://localhost:8080/"
        },
        "id": "9tWFTm6h7yBM",
        "outputId": "edb7bd06-152f-4060-a035-6acc8e3346d5"
      },
      "execution_count": 42,
      "outputs": [
        {
          "output_type": "stream",
          "name": "stdout",
          "text": [
            "[16 17 18 19]\n"
          ]
        }
      ]
    },
    {
      "cell_type": "code",
      "source": [
        "# creating a 2-D array\n",
        "\n",
        "array_3 = np.array([[1],[2],[3]])"
      ],
      "metadata": {
        "id": "kPy1LWm27WFN"
      },
      "execution_count": 43,
      "outputs": []
    },
    {
      "cell_type": "code",
      "source": [
        "# Broadcasting an array with a 2-D array.\n",
        "\n",
        "result = array_2 + array_3"
      ],
      "metadata": {
        "id": "0AQ7K1kO7ls6"
      },
      "execution_count": 44,
      "outputs": []
    },
    {
      "cell_type": "code",
      "source": [
        "print(result)"
      ],
      "metadata": {
        "colab": {
          "base_uri": "https://localhost:8080/"
        },
        "id": "bN-Itjyx7pw_",
        "outputId": "43fd6c33-f1f4-438b-ac28-2f87769d1dd6"
      },
      "execution_count": 45,
      "outputs": [
        {
          "output_type": "stream",
          "name": "stdout",
          "text": [
            "[[ 7  8  9 10]\n",
            " [ 8  9 10 11]\n",
            " [ 9 10 11 12]]\n"
          ]
        }
      ]
    }
  ],
  "metadata": {
    "colab": {
      "provenance": [],
      "collapsed_sections": [
        "2pux1XOrRJNf",
        "4QtTLElwTIzB",
        "x4xnE7vFT9CU",
        "jQHcZtX3m1Wt",
        "BUEpY4W7VBbf",
        "RnFk7szSlpEB",
        "FL_DP7LciL8c",
        "O5tXIEkiPtz9",
        "ZVWMI401QVaT",
        "nZDV3q8PRB2O",
        "SMnb4HzVX7UV",
        "UY6Nct92YCDc",
        "INAHKi_LaEnP",
        "5heS3uMGeAmN",
        "kOMQM8T5JJ_t",
        "vlVgrtWx6ssB"
      ]
    },
    "kernelspec": {
      "display_name": "Python 3 (ipykernel)",
      "language": "python",
      "name": "python3"
    },
    "language_info": {
      "codemirror_mode": {
        "name": "ipython",
        "version": 3
      },
      "file_extension": ".py",
      "mimetype": "text/x-python",
      "name": "python",
      "nbconvert_exporter": "python",
      "pygments_lexer": "ipython3",
      "version": "3.10.7"
    }
  },
  "nbformat": 4,
  "nbformat_minor": 0
}